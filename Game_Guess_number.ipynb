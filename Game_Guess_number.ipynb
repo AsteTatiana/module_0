{
 "cells": [
  {
   "cell_type": "code",
   "execution_count": 2,
   "metadata": {},
   "outputs": [
    {
     "name": "stdout",
     "output_type": "stream",
     "text": [
      "Ваш алгоритм угадывает число в среднем за 5 попыток!\n"
     ]
    },
    {
     "data": {
      "text/plain": [
       "5"
      ]
     },
     "execution_count": 2,
     "metadata": {},
     "output_type": "execute_result"
    }
   ],
   "source": [
    "import numpy as np\n",
    "\n",
    "\n",
    "def game_core(number):\n",
    "    # Binary search \"guess\" number.\n",
    "    search_list = range(1, 101)\n",
    "    first_point = 0\n",
    "    last_point = len(search_list) - 1\n",
    "    attempts_number = 1\n",
    "    \n",
    "    while first_point <= last_point:\n",
    "        mid_point = (first_point+last_point) // 2\n",
    "        if search_list[mid_point] == number:\n",
    "            break\n",
    "        else:\n",
    "            attempts_number += 1\n",
    "            if number < search_list[mid_point]:\n",
    "                last_point = mid_point - 1\n",
    "            else:\n",
    "                first_point = mid_point + 1\n",
    "                \n",
    "    return attempts_number\n",
    "\n",
    "\n",
    "def score_game(game_core):\n",
    "    #Start game 1000 times to calculate average number of attempts.\n",
    "    np.random.seed(1)  \n",
    "    # Fix constant set numbers to guess.\n",
    "    set_numbers = np.random.randint(1, 101, size=1000)\n",
    "    attempts_number = []\n",
    "    \n",
    "    for number in set_numbers:\n",
    "        attempts_number.append(game_core(number))\n",
    "    \n",
    "    mean_attempts = int(np.mean(attempts_number))\n",
    "    print(f\"Ваш алгоритм угадывает число в среднем за {mean_attempts} попыток!\")\n",
    "    return(mean_attempts)\n",
    "\n",
    "\n",
    "score_game(game_core)"
   ]
  },
  {
   "cell_type": "code",
   "execution_count": null,
   "metadata": {},
   "outputs": [],
   "source": []
  }
 ],
 "metadata": {
  "kernelspec": {
   "display_name": "Python 3",
   "language": "python",
   "name": "python3"
  },
  "language_info": {
   "codemirror_mode": {
    "name": "ipython",
    "version": 3
   },
   "file_extension": ".py",
   "mimetype": "text/x-python",
   "name": "python",
   "nbconvert_exporter": "python",
   "pygments_lexer": "ipython3",
   "version": "3.7.6"
  }
 },
 "nbformat": 4,
 "nbformat_minor": 4
}
